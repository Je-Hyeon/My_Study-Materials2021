{
  "nbformat": 4,
  "nbformat_minor": 0,
  "metadata": {
    "colab": {
      "provenance": [],
      "authorship_tag": "ABX9TyNhXGEY6fmM3qo9GOWOkTGh",
      "include_colab_link": true
    },
    "kernelspec": {
      "name": "python3",
      "display_name": "Python 3"
    },
    "language_info": {
      "name": "python"
    }
  },
  "cells": [
    {
      "cell_type": "markdown",
      "metadata": {
        "id": "view-in-github",
        "colab_type": "text"
      },
      "source": [
        "<a href=\"https://colab.research.google.com/github/Je-Hyeon/Je-Hyeon/blob/%EB%AC%B8%EC%A0%9C%ED%95%B4%EA%B2%B0%EA%B3%BC-%EC%95%8C%EA%B3%A0%EB%A6%AC%EC%A6%98-%EA%B3%BC%EC%A0%9C/%EC%9B%90%EA%B7%9C%ED%98%95%EA%B3%BC%EC%A0%9C.ipynb\" target=\"_parent\"><img src=\"https://colab.research.google.com/assets/colab-badge.svg\" alt=\"Open In Colab\"/></a>"
      ]
    },
    {
      "cell_type": "markdown",
      "source": [
        "# 문제1\n",
        "1.\t Id와 password를 함수안에 저장한다 ( id와 password를 문자열 타입으로 저장해둔다\n",
        "->\tInput이 스트링 타입으로 데이터를 받기 때문에, 편의를 위해 문자열로 저장했다)\n",
        "\n",
        "2. 저장된 아이디가 input id와 동일하면, 비밀번호를 입력받는다\n",
        "\n",
        "3. Password_input이 저장된 password와 동일한 경우 -> 로그인 성공을 출력한다\n",
        "\n",
        "4. 비밀번호가 틀렸을 경우, 비밀번호가 틀렸습니다를 출력한다.\n",
        "\n",
        "\n"
      ],
      "metadata": {
        "id": "q68AFET6USYj"
      }
    },
    {
      "cell_type": "code",
      "execution_count": null,
      "metadata": {
        "id": "tDIG02TXUPrP"
      },
      "outputs": [],
      "source": [
        "# 문제2  -> 전체 과정을 함수로 정의할 수 있다\n",
        "\n",
        "def id_input(id_in):  # id_in은 스트링이라 스트링 자료형이 필요하다\n",
        "    id = 'abc'\n",
        "    password = '123'\n",
        "\n",
        "    if id == id_in: # 아이디가 저장된 값과 동일한 경우\n",
        "        try:\n",
        "            password_in = input('비밀번호 입력: (오직 숫자만)') # 비밀번호는 숫자만 가능(추가기능)\n",
        "            if password_in ==password: # 비밀번호가 저장된 비밀번호와 동일한 경우\n",
        "                print('로그인 성공')\n",
        "        except:\n",
        "            print('비밀번호가 틀렸습니다.')\n",
        "\n",
        "\n",
        "id_in = input('아이디를 입력하세요')\n",
        "id_input(id_in)"
      ]
    },
    {
      "cell_type": "markdown",
      "source": [
        "# 문제3\n",
        "\n",
        "1. 난수를 두개 생성한다\n",
        "\n",
        "2. 사칙연산 중 어떤 연산을 사용할 지, 난수(0,1,2,3)를 사용해 추출한다\n",
        "\n",
        "3. 사용자에게 사칙연산 결과를 입력받는다(종료일 경우 반복문을 break한다)\n",
        "\n",
        "4. 입력값이 정답과 동일하면 위 과정을 반복한다\n",
        "\n",
        "* 사칙연산 중 어떤 것을 실행할 지를 담은 리스트가 필요하다.\n",
        "\n",
        "* 사칙연산들을 4개의 함수로 구현해서 전체 실행 코드를 간단하게 표현할 수 있다\n",
        "\n",
        "\n",
        "\n",
        "```\n",
        "# def plus(a,b):  # 함수로 더하기를 구현\n",
        "    alg = input('{} + {} = ?'.format(a,b))\n",
        "    if alg == '종료':\n",
        "        return -1\n",
        "    if int(alg) == a+b:\n",
        "    \n",
        "        print('정답입니다!')\n",
        "        return 1\n",
        "    else:\n",
        "        print('틀렸습니다')\n",
        "        return 0\n",
        "\n",
        "```\n",
        "\n"
      ],
      "metadata": {
        "id": "ZYpMxRxgUoa1"
      }
    },
    {
      "cell_type": "code",
      "source": [
        "# 문제 4번 코드\n",
        "## 우선 사칙연산을 함수로 구현\n",
        "\n",
        "def plus(a,b):   # 더하기 구현\n",
        "\n",
        "    alg = input('{} + {} = ?'.format(a,b))\n",
        "    if alg == '종료':\n",
        "        return -1    # -1은 반복문을 깬다는 것을 의미\n",
        "    if int(alg) == a+b:\n",
        "    \n",
        "        print('정답입니다!')\n",
        "        return 1   # 1을 리턴할 경우 정답개수인 cnt에 1을 더해줄거임\n",
        "    else:\n",
        "        print('틀렸습니다')\n",
        "        return 0   # 0을 리턴할 경우 아무것도 하지 않음\n",
        "\n",
        "def minus(a,b):  # 마이너스 구현\n",
        "\n",
        "    alg = input('{} - {} = ?'.format(a,b))\n",
        "    if alg == '종료':\n",
        "        return -1\n",
        "    if int(alg) == a-b:\n",
        "\n",
        "        print('정답입니다!')\n",
        "        return 1\n",
        "    else:\n",
        "        print('틀렸습니다')\n",
        "        return 0\n",
        "\n",
        "def multiply(a,b):   # 곱하기 구현\n",
        "\n",
        "    alg = input('{} * {} = ?'.format(a,b))\n",
        "    if alg == '종료':\n",
        "        return -1\n",
        "    if int(alg) == a*b:    \n",
        "    \n",
        "        print('정답입니다!')\n",
        "        return 1\n",
        "    else:\n",
        "        print('틀렸습니다')\n",
        "        return 0\n",
        "\n",
        "def divide(a,b):    # 나누기 구현\n",
        "\n",
        "    alg = input('{} / {} = ?'.format(a,b))\n",
        "    if alg == '종료':\n",
        "        return -1\n",
        "    if float(alg) == a/b:  # 소수를 입력받을 수 있기 때문에 여기서만 float로 구현\n",
        "\n",
        "        print('정답입니다!')\n",
        "        return 1\n",
        "    else:\n",
        "        print('틀렸습니다')\n",
        "        return 0\n",
        "\n",
        "# 문제4\n",
        "import random\n",
        "\n",
        "cnt = 0   # 정답수를 카운트함\n",
        "\n",
        "while True:\n",
        "    a,b = random.randint(1,100), random.randint(1,100)  # 난수 2개 생성\n",
        "    \n",
        "    # 기능 추가: 무조건 큰 수가 연산의 앞에 등장ㅇ한다\n",
        "    if b>a:\n",
        "        a,b = b,a\n",
        "\n",
        "    l = [plus,minus,multiply,divide]   # 사칙연산을 담은 리스트를 만들고\n",
        "    algebra = random.choice(l)         # 랜덤하게 사칙연산을 선택함\n",
        "    return_value = algebra(a,b)\n",
        "    if return_value == -1:    # 리턴값이 -1일 경우 반복문을 깬다\n",
        "        break\n",
        "    elif return_value == 1:   # 리턴값이 1이면 정답이기 때문에 cnt를 1 더해줌\n",
        "        cnt +=1\n",
        "\n",
        "print(cnt)\n"
      ],
      "metadata": {
        "id": "KNpRhkRhUesT"
      },
      "execution_count": null,
      "outputs": []
    }
  ]
}