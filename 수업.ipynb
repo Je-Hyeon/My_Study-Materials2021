{
  "cells": [
    {
      "cell_type": "markdown",
      "metadata": {
        "id": "view-in-github",
        "colab_type": "text"
      },
      "source": [
        "<a href=\"https://colab.research.google.com/github/Je-Hyeon/Je-Hyeon/blob/main/%EC%88%98%EC%97%85.ipynb\" target=\"_parent\"><img src=\"https://colab.research.google.com/assets/colab-badge.svg\" alt=\"Open In Colab\"/></a>"
      ]
    },
    {
      "cell_type": "markdown",
      "metadata": {
        "id": "WBS5IwdEIvDr"
      },
      "source": [
        "##### 문제1\n",
        "\n",
        " * 스택 \n",
        " 장점 : 데이터에 접근, 삽입, 삭제가 빠르다 \n",
        " 단점 : 가장 위에 있는 데이터를 제외하곤 접근이 불가능한다\n",
        "\n",
        " * 큐\n",
        " 장점: 스택과 마찬가지로 데이터에 접근,삽입, 삭제가 빠르다\n",
        " 단점: 중간에 위치한 데이터 접근이 불가능하다\n"
      ]
    },
    {
      "cell_type": "markdown",
      "metadata": {
        "id": "7j8MeZ63IvDx"
      },
      "source": [
        "##### 문제 2\n",
        "\n",
        "* 스택 활용: 헬스장 원판 보관하는 곳 : 가장 최근에 끼운 원판부터 순서대로 꺼낼 수 있다 ( 일종의 스택이라 생각할 수 있음)\n",
        "\n",
        "* 큐의 활용: 콜센터 고객 대기순서가 큐의 활용 예시로 볼 수 있다"
      ]
    },
    {
      "cell_type": "code",
      "execution_count": null,
      "metadata": {
        "id": "dkHtGXdpIvDy"
      },
      "outputs": [],
      "source": [
        "# 문제3\n",
        "\n",
        "SIZE = 5\n",
        "\n",
        "i\n",
        "left \n",
        "\n",
        "i \n",
        "right\n",
        "\n",
        "i \n",
        "code \n",
        "\n",
        "i \n",
        "AMD \n",
        "\n",
        "i \n",
        "bit "
      ]
    },
    {
      "cell_type": "markdown",
      "metadata": {
        "id": "6HL0gk_DIvDz"
      },
      "source": [
        "##### 문제4\n",
        "\n",
        "i \n",
        "start\n",
        "\n",
        "i \n",
        "source\n",
        "\n",
        "i\n",
        "report\n",
        "\n",
        "i \n",
        "input\n",
        "\n",
        "i\n",
        "exit"
      ]
    }
  ],
  "metadata": {
    "kernelspec": {
      "display_name": "Python 3.10.0 64-bit",
      "language": "python",
      "name": "python3"
    },
    "language_info": {
      "codemirror_mode": {
        "name": "ipython",
        "version": 3
      },
      "file_extension": ".py",
      "mimetype": "text/x-python",
      "name": "python",
      "nbconvert_exporter": "python",
      "pygments_lexer": "ipython3",
      "version": "3.10.0"
    },
    "orig_nbformat": 4,
    "vscode": {
      "interpreter": {
        "hash": "146e877987a5ca10c5ba40ec3e7a25002bcba56c71dc1c36e6a7a19a2012e1b9"
      }
    },
    "colab": {
      "provenance": [],
      "include_colab_link": true
    }
  },
  "nbformat": 4,
  "nbformat_minor": 0
}